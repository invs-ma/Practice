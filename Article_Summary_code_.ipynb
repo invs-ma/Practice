{
  "nbformat": 4,
  "nbformat_minor": 0,
  "metadata": {
    "colab": {
      "provenance": [],
      "authorship_tag": "ABX9TyOTEN1aCrBDmwmBvrGNk/xC",
      "include_colab_link": true
    },
    "kernelspec": {
      "name": "python3",
      "display_name": "Python 3"
    },
    "language_info": {
      "name": "python"
    }
  },
  "cells": [
    {
      "cell_type": "markdown",
      "metadata": {
        "id": "view-in-github",
        "colab_type": "text"
      },
      "source": [
        "<a href=\"https://colab.research.google.com/github/invs-ma/Practice/blob/main/Article_Summary_code_.ipynb\" target=\"_parent\"><img src=\"https://colab.research.google.com/assets/colab-badge.svg\" alt=\"Open In Colab\"/></a>"
      ]
    },
    {
      "cell_type": "code",
      "execution_count": 8,
      "metadata": {
        "colab": {
          "base_uri": "https://localhost:8080/"
        },
        "id": "GvoMBxmUId3D",
        "outputId": "1bde5b2c-0cae-48d1-f6d6-998b10f6b73a"
      },
      "outputs": [
        {
          "output_type": "stream",
          "name": "stdout",
          "text": [
            "Looking in indexes: https://pypi.org/simple, https://us-python.pkg.dev/colab-wheels/public/simple/\n",
            "Collecting newspaper3k\n",
            "  Downloading newspaper3k-0.2.8-py3-none-any.whl (211 kB)\n",
            "\u001b[K     |████████████████████████████████| 211 kB 7.8 MB/s \n",
            "\u001b[?25hRequirement already satisfied: Pillow>=3.3.0 in /usr/local/lib/python3.7/dist-packages (from newspaper3k) (7.1.2)\n",
            "Requirement already satisfied: lxml>=3.6.0 in /usr/local/lib/python3.7/dist-packages (from newspaper3k) (4.9.1)\n",
            "Collecting tldextract>=2.0.1\n",
            "  Downloading tldextract-3.4.0-py3-none-any.whl (93 kB)\n",
            "\u001b[K     |████████████████████████████████| 93 kB 2.2 MB/s \n",
            "\u001b[?25hCollecting tinysegmenter==0.3\n",
            "  Downloading tinysegmenter-0.3.tar.gz (16 kB)\n",
            "Collecting feedfinder2>=0.0.4\n",
            "  Downloading feedfinder2-0.0.4.tar.gz (3.3 kB)\n",
            "Collecting jieba3k>=0.35.1\n",
            "  Downloading jieba3k-0.35.1.zip (7.4 MB)\n",
            "\u001b[K     |████████████████████████████████| 7.4 MB 42.4 MB/s \n",
            "\u001b[?25hCollecting feedparser>=5.2.1\n",
            "  Downloading feedparser-6.0.10-py3-none-any.whl (81 kB)\n",
            "\u001b[K     |████████████████████████████████| 81 kB 7.8 MB/s \n",
            "\u001b[?25hRequirement already satisfied: requests>=2.10.0 in /usr/local/lib/python3.7/dist-packages (from newspaper3k) (2.23.0)\n",
            "Requirement already satisfied: beautifulsoup4>=4.4.1 in /usr/local/lib/python3.7/dist-packages (from newspaper3k) (4.6.3)\n",
            "Requirement already satisfied: nltk>=3.2.1 in /usr/local/lib/python3.7/dist-packages (from newspaper3k) (3.7)\n",
            "Requirement already satisfied: python-dateutil>=2.5.3 in /usr/local/lib/python3.7/dist-packages (from newspaper3k) (2.8.2)\n",
            "Requirement already satisfied: PyYAML>=3.11 in /usr/local/lib/python3.7/dist-packages (from newspaper3k) (6.0)\n",
            "Collecting cssselect>=0.9.2\n",
            "  Downloading cssselect-1.2.0-py2.py3-none-any.whl (18 kB)\n",
            "Requirement already satisfied: six in /usr/local/lib/python3.7/dist-packages (from feedfinder2>=0.0.4->newspaper3k) (1.15.0)\n",
            "Collecting sgmllib3k\n",
            "  Downloading sgmllib3k-1.0.0.tar.gz (5.8 kB)\n",
            "Requirement already satisfied: tqdm in /usr/local/lib/python3.7/dist-packages (from nltk>=3.2.1->newspaper3k) (4.64.1)\n",
            "Requirement already satisfied: click in /usr/local/lib/python3.7/dist-packages (from nltk>=3.2.1->newspaper3k) (7.1.2)\n",
            "Requirement already satisfied: joblib in /usr/local/lib/python3.7/dist-packages (from nltk>=3.2.1->newspaper3k) (1.2.0)\n",
            "Requirement already satisfied: regex>=2021.8.3 in /usr/local/lib/python3.7/dist-packages (from nltk>=3.2.1->newspaper3k) (2022.6.2)\n",
            "Requirement already satisfied: urllib3!=1.25.0,!=1.25.1,<1.26,>=1.21.1 in /usr/local/lib/python3.7/dist-packages (from requests>=2.10.0->newspaper3k) (1.24.3)\n",
            "Requirement already satisfied: idna<3,>=2.5 in /usr/local/lib/python3.7/dist-packages (from requests>=2.10.0->newspaper3k) (2.10)\n",
            "Requirement already satisfied: certifi>=2017.4.17 in /usr/local/lib/python3.7/dist-packages (from requests>=2.10.0->newspaper3k) (2022.9.24)\n",
            "Requirement already satisfied: chardet<4,>=3.0.2 in /usr/local/lib/python3.7/dist-packages (from requests>=2.10.0->newspaper3k) (3.0.4)\n",
            "Collecting requests-file>=1.4\n",
            "  Downloading requests_file-1.5.1-py2.py3-none-any.whl (3.7 kB)\n",
            "Requirement already satisfied: filelock>=3.0.8 in /usr/local/lib/python3.7/dist-packages (from tldextract>=2.0.1->newspaper3k) (3.8.0)\n",
            "Building wheels for collected packages: tinysegmenter, feedfinder2, jieba3k, sgmllib3k\n",
            "  Building wheel for tinysegmenter (setup.py) ... \u001b[?25l\u001b[?25hdone\n",
            "  Created wheel for tinysegmenter: filename=tinysegmenter-0.3-py3-none-any.whl size=13553 sha256=5a149cc572ca9ce8fd6272cc6cd96d7f309b512ae8ab19486ce01944cf5d4e93\n",
            "  Stored in directory: /root/.cache/pip/wheels/df/67/41/faca10fa501ca010be41b49d40360c2959e1c4f09bcbfa37fa\n",
            "  Building wheel for feedfinder2 (setup.py) ... \u001b[?25l\u001b[?25hdone\n",
            "  Created wheel for feedfinder2: filename=feedfinder2-0.0.4-py3-none-any.whl size=3357 sha256=53a987e9a8b5c93a11d4d1ec72c6b10c065adbc3356f4986d2752a7748be3cf3\n",
            "  Stored in directory: /root/.cache/pip/wheels/7f/d4/8f/6e2ca54744c9d7292d88ddb8d42876bcdab5e6d84a21c10346\n",
            "  Building wheel for jieba3k (setup.py) ... \u001b[?25l\u001b[?25hdone\n",
            "  Created wheel for jieba3k: filename=jieba3k-0.35.1-py3-none-any.whl size=7398404 sha256=07b7794f48de4ec5d97701cf984dda5e4a50b1a47f118847d17369a634790347\n",
            "  Stored in directory: /root/.cache/pip/wheels/4c/91/46/3c208287b726df325a5979574324878b679116e4baae1af3c3\n",
            "  Building wheel for sgmllib3k (setup.py) ... \u001b[?25l\u001b[?25hdone\n",
            "  Created wheel for sgmllib3k: filename=sgmllib3k-1.0.0-py3-none-any.whl size=6066 sha256=e63c39b8ffae574fe2c28a34fb17627560efcfc4d0dfba533bca311d6e3cb661\n",
            "  Stored in directory: /root/.cache/pip/wheels/73/ad/a4/0dff4a6ef231fc0dfa12ffbac2a36cebfdddfe059f50e019aa\n",
            "Successfully built tinysegmenter feedfinder2 jieba3k sgmllib3k\n",
            "Installing collected packages: sgmllib3k, requests-file, tldextract, tinysegmenter, jieba3k, feedparser, feedfinder2, cssselect, newspaper3k\n",
            "Successfully installed cssselect-1.2.0 feedfinder2-0.0.4 feedparser-6.0.10 jieba3k-0.35.1 newspaper3k-0.2.8 requests-file-1.5.1 sgmllib3k-1.0.0 tinysegmenter-0.3 tldextract-3.4.0\n"
          ]
        }
      ],
      "source": [
        "pip install newspaper3k"
      ]
    },
    {
      "cell_type": "code",
      "source": [
        "import nltk\n",
        "from newspaper import Article"
      ],
      "metadata": {
        "id": "mTYLgjNJLshF"
      },
      "execution_count": 11,
      "outputs": []
    },
    {
      "cell_type": "code",
      "source": [
        "url = 'https://www.desiringgod.org/articles/the-small-god-of-thomas-jefferson'\n",
        "article = Article(url)"
      ],
      "metadata": {
        "id": "jPGc_V4IL31f"
      },
      "execution_count": 12,
      "outputs": []
    },
    {
      "cell_type": "code",
      "source": [
        "article.download()\n",
        "article.parse()\n",
        "nltk.download('punkt')\n",
        "article.nlp()"
      ],
      "metadata": {
        "colab": {
          "base_uri": "https://localhost:8080/"
        },
        "id": "OaXH-dn1M0_v",
        "outputId": "e8de18cf-b1a9-4ebc-cda0-9a34cb98edbd"
      },
      "execution_count": 13,
      "outputs": [
        {
          "output_type": "stream",
          "name": "stderr",
          "text": [
            "[nltk_data] Downloading package punkt to /root/nltk_data...\n",
            "[nltk_data]   Unzipping tokenizers/punkt.zip.\n"
          ]
        }
      ]
    },
    {
      "cell_type": "code",
      "source": [
        "article.authors"
      ],
      "metadata": {
        "colab": {
          "base_uri": "https://localhost:8080/"
        },
        "id": "XAZuH8bkNJFH",
        "outputId": "1099b8ac-5425-4dea-d7dc-d320f2681f2a"
      },
      "execution_count": 14,
      "outputs": [
        {
          "output_type": "execute_result",
          "data": {
            "text/plain": [
              "['Thomas S. Kidd',\n",
              " 'Thomas S. Kidd Is Research Professor Of Church History At Midwestern Baptist Theological Seminary',\n",
              " 'The Author Of Books Including',\n",
              " 'John Piper']"
            ]
          },
          "metadata": {},
          "execution_count": 14
        }
      ]
    },
    {
      "cell_type": "code",
      "source": [
        "article.publish_date"
      ],
      "metadata": {
        "colab": {
          "base_uri": "https://localhost:8080/"
        },
        "id": "46nJSaHcNV8G",
        "outputId": "ffd82386-d934-41d9-e114-01d4527bda0e"
      },
      "execution_count": 15,
      "outputs": [
        {
          "output_type": "execute_result",
          "data": {
            "text/plain": [
              "datetime.datetime(2022, 10, 28, 0, 0)"
            ]
          },
          "metadata": {},
          "execution_count": 15
        }
      ]
    },
    {
      "cell_type": "code",
      "source": [
        "article.top_image"
      ],
      "metadata": {
        "colab": {
          "base_uri": "https://localhost:8080/",
          "height": 52
        },
        "id": "dwObEz9sNdCI",
        "outputId": "cefcedf4-dfa8-4a1a-e60f-fbf273b10122"
      },
      "execution_count": 16,
      "outputs": [
        {
          "output_type": "execute_result",
          "data": {
            "text/plain": [
              "'https://dg.imgix.net/the-small-god-of-thomas-jefferson-n1d5rvb5-en/landscape/the-small-god-of-thomas-jefferson-n1d5rvb5-ecff15ff43e1ebd9eeac821e78f4006d.jpg?ts=1666041367&ixlib=rails-4.2.0&fit=crop&w=2000&h=1050'"
            ],
            "application/vnd.google.colaboratory.intrinsic+json": {
              "type": "string"
            }
          },
          "metadata": {},
          "execution_count": 16
        }
      ]
    },
    {
      "cell_type": "code",
      "source": [
        "print(article.text)"
      ],
      "metadata": {
        "colab": {
          "base_uri": "https://localhost:8080/"
        },
        "id": "isUPHgjzNkpk",
        "outputId": "8c3b15ea-f95b-4556-fae4-52c9e285b08c"
      },
      "execution_count": 17,
      "outputs": [
        {
          "output_type": "stream",
          "name": "stdout",
          "text": [
            "Thomas Jefferson is one of the most studied figures in American history, and his biographers have characterized his religion in almost every conceivable way. Some have claimed he was a Christian, while others have labeled him a rationalist, a materialist, or a Deist. Some polemical writers on the left and right have even tried to portray him as an atheist or as an evangelical believer. (He was neither.) But perhaps one of the most accurate ways to describe Jefferson’s religious beliefs is that he was an anti-Calvinist. As Jefferson put it in a letter to Philadelphia pastor Ezra Stiles Ely in 1819, “You are a Calvinist. I am not. I am of a sect by myself, as far as I know.”1\n",
            "\n",
            "How did Jefferson’s staunch anti-Calvinist views develop? He grew up in a fairly conventional Church of England environment in colonial Virginia. Historically, the Anglican Church definitely had its Calvinist stalwarts, including the revivalist George Whitefield of Great Awakening fame. By the time Jefferson studied at the College of William and Mary, however, he seems to have doubted or denied many basic Christian doctrines, such as the resurrection and divinity of Christ.\n",
            "\n",
            "Still, Jefferson had a number of companions and political allies in Virginia who were evangelicals or Reformed Christians. He was a lifelong friend of Pastor Charles Clay, for example, and he donated to Clay’s “Calvinistical Reformed” church in Charlottesville during the Revolutionary War. (Jefferson regularly gave money to a range of churches, despite the growing disarray in his personal finances.) Jefferson was also an admirer of certain Calvinist political writers, including the English republican theorist Algernon Sidney, whom Jefferson used as a resource in the Declaration of Independence. In his treatise Discourses Concerning Government, Sidney had written that “nothing can be more evident, than that if many [men] had been created, they had been all equal.”2\n",
            "\n",
            "“Perhaps one of the most accurate ways to describe Jefferson’s religious beliefs is that he was an anti-Calvinist.”\n",
            "\n",
            "Thus, Jefferson was not predestined to become an anti-Calvinist (pun intended). So where did his revulsion against Calvinism come from? One factor was political, and the other was theological.\n",
            "\n",
            "Calvinist Enemies\n",
            "\n",
            "Politically, Jefferson found that many of his most hostile political adversaries were Calvinists, or at least they came out of a Calvinist milieu, usually in the northern states. Again, plenty of professing Christians supported Jefferson, but those Christians tended to be southerners. The northern Christians who backed Jefferson tended to be from outsider groups such as the Baptists, who still faced the threat of persecution in Congregationalist-dominated states such as Massachusetts and Connecticut. Evangelical Jeffersonians tended to focus more on the cause of religious liberty than on the preferred religious beliefs of a presidential candidate.\n",
            "\n",
            "Reformed and Calvinist leaders in the North, conversely, prioritized the need for Americans to honor traditional Christian belief and culture. This disposition fed into support for the Federalist Party. For example, the Calvinist minister, Yale College president, and arch-Federalist Timothy Dwight (grandson of Jonathan Edwards) stated in 1800 that if the infidel Jefferson became president, it would “ruin the Republic.”\n",
            "\n",
            "Jefferson thought that religious beliefs were irrelevant to one’s qualifications for public service. Federalists argued that electing someone of Jefferson’s well-known skepticism about Christian doctrine was inviting the wrath of God on the nation. As one Federalist ad in the 1800 presidential campaign put it, the choice before American voters was between “GOD — AND A RELIGIOUS PRESIDENT [John Adams]” or “JEFFERSON — AND NO GOD.” (Yes, Americans used all caps before Twitter.) Jefferson seethed about the way his Federalist Christian enemies made his heterodox views an issue into the 1800 presidential election. He came to see such tactics as typical of Calvinists in politics.3\n",
            "\n",
            "Jefferson’s Bible\n",
            "\n",
            "Theologically, Jefferson would also undergo a major shift in the years from 1800 to 1803. He was stung by Federalist charges that he was an atheist. Also, in 1802 newspapers began printing allegations that Jefferson had a sexual relationship with his slave Sally Hemings, allegations that Jefferson experts now generally regard as true. Jefferson would never confront those charges in public, but he was clearly becoming anxious to find a way to present himself to the voters and his family as a Christian, at least of a rationalist sort. This anxiety seems to have precipitated Jefferson’s decision to accept Unitarianism and its ethics-focused version of Christianity.4\n",
            "\n",
            "Despite his skeptical bent, Jefferson had a lifelong interest (sometimes bordering on an obsession) in the Bible and in the person of Jesus. In 1803 Jefferson read Socrates and Jesus Compared, a tract by the Unitarian minister and scientist Joseph Priestley. It represented a major philosophical pivot for the president. Priestley convinced Jefferson that Jesus’s moral teachings were not just significant, but the greatest the world had ever known. Jesus’s ethic of agape, or sacrificial neighborly love, placed him above the ancient Greek philosophers, whose teachings focused on a person’s interior life more than love for one’s neighbor. Jefferson felt that the Unitarian philosophy gave him a way to affirm Christian ethics, while setting aside doctrinal complexities such as the Trinity, tenets that Jefferson believed Christians had imposed on Jesus after his death.\n",
            "\n",
            "“Jefferson literally cut out most of the supernatural content from the Gospels, including the resurrection of Christ.”\n",
            "\n",
            "His Unitarian settlement also prompted Jefferson to compose the first version of the so-called Jefferson Bible. The Jefferson Bible (the second version of it, composed in the late 1810s, is the only version of the text that has survived) was Jefferson’s idiosyncratic compilation of the Gospels. It mostly featured Jesus’s moral teachings and parables. Jefferson literally cut out most of the supernatural content from the Gospels, including the resurrection of Christ.\n",
            "\n",
            "Anti-Calvinist\n",
            "\n",
            "Drawing upon his Unitarian convictions, by the time of his retirement in the 1810s, Jefferson increasingly cast his religious beliefs as anti-Calvinist. A number of the Congregationalist churches of New England (the old denomination of the Puritans) were turning Unitarian, and Harvard also appointed a Unitarian professor of divinity in 1805. All this elicited a ferocious print debate between the Unitarians and the traditional Calvinists, a debate Jefferson followed. Jefferson became increasingly adamant that Calvin and his followers had done terrible damage to the simple message of ancient Christian teachings.\n",
            "\n",
            "Jefferson told New Hampshire congressman Salma Hale in 1818,\n",
            "\n",
            "Calvinism has introduced into the Christian religion more new absurdities than its leader [Jesus] had purged it of old ones. Our saviour did not come into the world to save metaphysicians only. . . . It is only by banishing [the] subtleties, which they have nick-named Christianity, and getting back to the plain and unsophisticated precepts of Christ, that we become real Christians.\n",
            "\n",
            "Here Jefferson suggested that Calvinists were not “real” Christians. He also averred that the traditional Protestant view of salvation was wrongheaded. Jefferson’s view was “the reverse of Calvin’s” — namely, “that we are to be saved by our good works which are within our power, and not by our faith which is not within our power.” Jefferson rarely spoke about the need for salvation, but he thought that if salvation was needed, it would be earned by good works.5\n",
            "\n",
            "Cut-and-Paste Christianity\n",
            "\n",
            "Even as the Second Great Awakening was turning American religion more evangelical than ever during his retirement, Jefferson was optimistic about the eventual triumph of Unitarian faith. “I trust that there is not a young man now living in the US who will not die a Unitarian,” he wrote in 1822. This was laughably inaccurate. (We might argue, however, that pop versions of Unitarianism, and casual belief in salvation by works, command great appeal in America through the present day.)\n",
            "\n",
            "His prediction also spoke to Jefferson’s naivete about the power of reason — defined by Enlightened men such as himself — to be the final arbiter of truth in politics and religion. Calvin, had he been alive to respond, would no doubt have cautioned Jefferson that while unaided reason has some value as part of God’s common grace, it is of secondary importance when understanding divine truth and the way of salvation. For such matters, we need an authoritative word from God, not a word that we cut and paste to suit our concept of what is reasonable.6\n"
          ]
        }
      ]
    },
    {
      "cell_type": "code",
      "source": [
        "print(article.summary)"
      ],
      "metadata": {
        "colab": {
          "base_uri": "https://localhost:8080/"
        },
        "id": "sIdY9xQ-N_fj",
        "outputId": "9124b062-644a-4c7d-a5aa-f54d9e63d8ef"
      },
      "execution_count": 18,
      "outputs": [
        {
          "output_type": "stream",
          "name": "stdout",
          "text": [
            "Thomas Jefferson is one of the most studied figures in American history, and his biographers have characterized his religion in almost every conceivable way.\n",
            "But perhaps one of the most accurate ways to describe Jefferson’s religious beliefs is that he was an anti-Calvinist.\n",
            "Again, plenty of professing Christians supported Jefferson, but those Christians tended to be southerners.\n",
            "Evangelical Jeffersonians tended to focus more on the cause of religious liberty than on the preferred religious beliefs of a presidential candidate.\n",
            "Anti-CalvinistDrawing upon his Unitarian convictions, by the time of his retirement in the 1810s, Jefferson increasingly cast his religious beliefs as anti-Calvinist.\n"
          ]
        }
      ]
    }
  ]
}